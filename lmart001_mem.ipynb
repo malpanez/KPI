{
 "cells": [
  {
   "cell_type": "code",
   "execution_count": 9,
   "id": "isolated-lender",
   "metadata": {},
   "outputs": [],
   "source": [
    "import pandas as pd\n",
    "import os"
   ]
  },
  {
   "cell_type": "code",
   "execution_count": 10,
   "id": "obvious-charger",
   "metadata": {},
   "outputs": [],
   "source": [
    "excel_book_1 = './May/sc/lmart001/mem/evh001_mem.csv'\n",
    "excel_book_2 = './May/sc/lmart001/mem/evh002_mem.csv'\n",
    "excel_book_3 = './May/sc/lmart001/mem/evh003_mem.csv'\n",
    "excel_book_4 = './May/sc/lmart001/mem/evh004_mem.csv'\n",
    "excel_book_5 = './May/sc/lmart001/mem/evh005_mem.csv'\n",
    "excel_book_6 = './May/sc/lmart001/mem/evh006_mem.csv'\n",
    "excel_book_7 = './May/sc/lmart001/mem/evh007_mem.csv'"
   ]
  },
  {
   "cell_type": "code",
   "execution_count": 11,
   "id": "straight-rouge",
   "metadata": {
    "scrolled": true
   },
   "outputs": [],
   "source": [
    "df_1 = pd.read_csv(excel_book_1)\n",
    "df_2 = pd.read_csv(excel_book_2)\n",
    "df_3 = pd.read_csv(excel_book_3)\n",
    "df_4 = pd.read_csv(excel_book_4)\n",
    "df_5 = pd.read_csv(excel_book_5)\n",
    "df_6 = pd.read_csv(excel_book_6)\n",
    "df_7 = pd.read_csv(excel_book_7)\n",
    "final_dataframe = pd.concat([df_1, df_2, df_3, df_4, df_5, df_6, df_7], axis=1)"
   ]
  },
  {
   "cell_type": "code",
   "execution_count": 12,
   "id": "oriental-involvement",
   "metadata": {},
   "outputs": [],
   "source": [
    "final_dataframe.to_csv( \n",
    "    'lmart001_mem.csv', index=False)"
   ]
  }
 ],
 "metadata": {
  "kernelspec": {
   "name": "python385jvsc74a57bd05bb12eb67624c75374b9114ba270fb8957bf9c1d51eb60215e8b605447caf146",
   "display_name": "Python 3.8.5 64-bit ('KPI': conda)"
  },
  "language_info": {
   "codemirror_mode": {
    "name": "ipython",
    "version": 3
   },
   "file_extension": ".py",
   "mimetype": "text/x-python",
   "name": "python",
   "nbconvert_exporter": "python",
   "pygments_lexer": "ipython3",
   "version": "3.8.5-final"
  }
 },
 "nbformat": 4,
 "nbformat_minor": 5
}