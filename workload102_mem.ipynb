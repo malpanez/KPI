{
 "metadata": {
  "language_info": {
   "codemirror_mode": {
    "name": "ipython",
    "version": 3
   },
   "file_extension": ".py",
   "mimetype": "text/x-python",
   "name": "python",
   "nbconvert_exporter": "python",
   "pygments_lexer": "ipython3",
   "version": "3.8.3"
  },
  "orig_nbformat": 2,
  "kernelspec": {
   "name": "python383jvsc74a57bd056845e4da9c4d9ba7afa8356a32e7cd0b2fc4741daafa806cfb7cee2f8eac9f8",
   "display_name": "Python 3.8.3 64-bit (conda)"
  }
 },
 "nbformat": 4,
 "nbformat_minor": 2,
 "cells": [
  {
   "cell_type": "code",
   "execution_count": 1,
   "metadata": {},
   "outputs": [],
   "source": [
    "import pandas as pd\n",
    "import os"
   ]
  },
  {
   "cell_type": "code",
   "execution_count": 2,
   "metadata": {},
   "outputs": [],
   "source": [
    "excel_book_1 = './May/cw/workload102/mem/wl104_mem.csv'\n",
    "excel_book_2 = './May/cw/workload102/mem/wl105_mem.csv'\n",
    "excel_book_3 = './May/cw/workload102/mem/wl106_mem.csv' \n",
    "excel_book_4 = './May/cw/workload102/mem/wl107_mem.csv' "
   ]
  },
  {
   "cell_type": "code",
   "execution_count": 3,
   "metadata": {},
   "outputs": [],
   "source": [
    "df_1 = pd.read_csv(excel_book_1)\n",
    "df_2 = pd.read_csv(excel_book_2)\n",
    "df_3 = pd.read_csv(excel_book_3)\n",
    "df_4 = pd.read_csv(excel_book_4)\n",
    "final_dataframe = pd.concat([df_1, df_2, df_3, df_4], axis=1)"
   ]
  },
  {
   "cell_type": "code",
   "execution_count": 4,
   "metadata": {},
   "outputs": [],
   "source": [
    "final_dataframe.to_csv( \n",
    "    'workload102_mem.csv', index=False)"
   ]
  }
 ]
}