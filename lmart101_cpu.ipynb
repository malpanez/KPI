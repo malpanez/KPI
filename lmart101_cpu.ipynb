{
 "cells": [
  {
   "cell_type": "code",
   "execution_count": 1,
   "id": "under-calgary",
   "metadata": {},
   "outputs": [],
   "source": [
    "import pandas as pd\n",
    "import os"
   ]
  },
  {
   "cell_type": "code",
   "execution_count": 2,
   "id": "continental-trail",
   "metadata": {},
   "outputs": [],
   "source": [
    "excel_book_1 = './May/cw/lmart101/cpu/evh101_cpu.csv'\n",
    "excel_book_2 = './May/cw/lmart101/cpu/evh102_cpu.csv'\n",
    "excel_book_3 = './May/cw/lmart101/cpu/evh103_cpu.csv'\n",
    "excel_book_4 = './May/cw/lmart101/cpu/evh104_cpu.csv'\n",
    "excel_book_5 = './May/cw/lmart101/cpu/evh105_cpu.csv'\n",
    "excel_book_6 = './May/cw/lmart101/cpu/evh106_cpu.csv'\n",
    "excel_book_7 = './May/cw/lmart101/cpu/evh107_cpu.csv'"
   ]
  },
  {
   "cell_type": "code",
   "execution_count": 3,
   "id": "annoying-temple",
   "metadata": {
    "scrolled": true
   },
   "outputs": [],
   "source": [
    "df_1 = pd.read_csv(excel_book_1)\n",
    "df_2 = pd.read_csv(excel_book_2)\n",
    "df_3 = pd.read_csv(excel_book_3)\n",
    "df_4 = pd.read_csv(excel_book_4)\n",
    "df_5 = pd.read_csv(excel_book_5)\n",
    "df_6 = pd.read_csv(excel_book_6)\n",
    "df_7 = pd.read_csv(excel_book_7)\n",
    "final_dataframe = pd.concat([df_1, df_2, df_3, df_4, df_5, df_6, df_7], axis=1)"
   ]
  },
  {
   "cell_type": "code",
   "execution_count": 4,
   "id": "considered-graduate",
   "metadata": {},
   "outputs": [],
   "source": [
    "final_dataframe.to_csv( \n",
    "    'lmart101_cpu.csv', index=False)"
   ]
  }
 ],
 "metadata": {
  "kernelspec": {
   "name": "python385jvsc74a57bd05bb12eb67624c75374b9114ba270fb8957bf9c1d51eb60215e8b605447caf146",
   "display_name": "Python 3.8.5 64-bit ('KPI': conda)"
  },
  "language_info": {
   "codemirror_mode": {
    "name": "ipython",
    "version": 3
   },
   "file_extension": ".py",
   "mimetype": "text/x-python",
   "name": "python",
   "nbconvert_exporter": "python",
   "pygments_lexer": "ipython3",
   "version": "3.8.5-final"
  }
 },
 "nbformat": 4,
 "nbformat_minor": 5
}