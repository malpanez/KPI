{
 "cells": [
  {
   "cell_type": "code",
   "execution_count": 1,
   "id": "grave-oxygen",
   "metadata": {},
   "outputs": [],
   "source": [
    "import pandas as pd\n",
    "import os"
   ]
  },
  {
   "cell_type": "code",
   "execution_count": 2,
   "id": "friendly-karen",
   "metadata": {},
   "outputs": [],
   "source": [
    "excel_book_1 = './May/sc/workload001/cpu/wl001_cpu.csv'\n",
    "excel_book_2 = './May/sc/workload001/cpu/wl002_cpu.csv'\n",
    "excel_book_3 = './May/sc/workload001/cpu/wl003_cpu.csv' "
   ]
  },
  {
   "cell_type": "code",
   "execution_count": 3,
   "id": "beautiful-cowboy",
   "metadata": {
    "scrolled": true
   },
   "outputs": [],
   "source": [
    "df_1 = pd.read_csv(excel_book_1)\n",
    "df_2 = pd.read_csv(excel_book_2)\n",
    "df_3 = pd.read_csv(excel_book_3)\n",
    "final_dataframe = pd.concat([df_1, df_2, df_3], axis=1)"
   ]
  },
  {
   "cell_type": "code",
   "execution_count": 4,
   "id": "dress-overall",
   "metadata": {},
   "outputs": [],
   "source": [
    "final_dataframe.to_csv( \n",
    "    'workload001_cpu.csv', index=False)"
   ]
  }
 ],
 "metadata": {
  "kernelspec": {
   "name": "python385jvsc74a57bd05bb12eb67624c75374b9114ba270fb8957bf9c1d51eb60215e8b605447caf146",
   "display_name": "Python 3.8.5 64-bit ('KPI': conda)"
  },
  "language_info": {
   "codemirror_mode": {
    "name": "ipython",
    "version": 3
   },
   "file_extension": ".py",
   "mimetype": "text/x-python",
   "name": "python",
   "nbconvert_exporter": "python",
   "pygments_lexer": "ipython3",
   "version": "3.8.5-final"
  }
 },
 "nbformat": 4,
 "nbformat_minor": 5
}