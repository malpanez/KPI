{
 "cells": [
  {
   "cell_type": "code",
   "execution_count": 1,
   "id": "large-antenna",
   "metadata": {},
   "outputs": [],
   "source": [
    "import pandas as pd\n",
    "import os"
   ]
  },
  {
   "cell_type": "code",
   "execution_count": 2,
   "id": "recent-bibliography",
   "metadata": {},
   "outputs": [],
   "source": [
    "excel_book_1 = './May/sc/management001/mem/mgt001_mem.csv'\n",
    "excel_book_2 = './May/sc/management001/mem/mgt002_mem.csv'\n",
    "excel_book_3 = './May/sc/management001/mem/mgt003_mem.csv'\n",
    "excel_book_4 = './May/sc/management001/mem/mgt004_mem.csv'"
   ]
  },
  {
   "cell_type": "code",
   "execution_count": 3,
   "id": "victorian-gravity",
   "metadata": {
    "scrolled": true
   },
   "outputs": [],
   "source": [
    "df_1 = pd.read_csv(excel_book_1)\n",
    "df_2 = pd.read_csv(excel_book_2)\n",
    "df_3 = pd.read_csv(excel_book_3)\n",
    "df_4 = pd.read_csv(excel_book_4)\n",
    "final_dataframe = pd.concat([df_1, df_2, df_3, df_4], axis=1)"
   ]
  },
  {
   "cell_type": "code",
   "execution_count": 4,
   "id": "weekly-bikini",
   "metadata": {},
   "outputs": [],
   "source": [
    "final_dataframe.to_csv( \n",
    "    'management001_mem.csv', index=False)"
   ]
  }
 ],
 "metadata": {
  "kernelspec": {
   "name": "python385jvsc74a57bd05bb12eb67624c75374b9114ba270fb8957bf9c1d51eb60215e8b605447caf146",
   "display_name": "Python 3.8.5 64-bit ('KPI': conda)"
  },
  "language_info": {
   "codemirror_mode": {
    "name": "ipython",
    "version": 3
   },
   "file_extension": ".py",
   "mimetype": "text/x-python",
   "name": "python",
   "nbconvert_exporter": "python",
   "pygments_lexer": "ipython3",
   "version": "3.8.5-final"
  }
 },
 "nbformat": 4,
 "nbformat_minor": 5
}