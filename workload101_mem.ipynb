{
 "cells": [
  {
   "cell_type": "code",
   "execution_count": 1,
   "id": "grateful-owner",
   "metadata": {},
   "outputs": [],
   "source": [
    "import pandas as pd\n",
    "import os"
   ]
  },
  {
   "cell_type": "code",
   "execution_count": 2,
   "id": "distributed-infrastructure",
   "metadata": {},
   "outputs": [],
   "source": [
    "excel_book_1 = './May/cw/workload101/mem/wl101_mem.csv'\n",
    "excel_book_2 = './May/cw/workload101/mem/wl102_mem.csv'\n",
    "excel_book_3 = './May/cw/workload101/mem/wl103_mem.csv'"
   ]
  },
  {
   "cell_type": "code",
   "execution_count": 3,
   "id": "immune-constant",
   "metadata": {
    "scrolled": true
   },
   "outputs": [],
   "source": [
    "df_1 = pd.read_csv(excel_book_1)\n",
    "df_2 = pd.read_csv(excel_book_2)\n",
    "df_3 = pd.read_csv(excel_book_3)\n",
    "final_dataframe = pd.concat([df_1, df_2, df_3], axis=1)"
   ]
  },
  {
   "cell_type": "code",
   "execution_count": 5,
   "id": "arranged-valve",
   "metadata": {},
   "outputs": [],
   "source": [
    "final_dataframe.to_csv( \n",
    "    'workload101_mem.csv', index=False)"
   ]
  },
  {
   "cell_type": "code",
   "execution_count": null,
   "id": "industrial-uganda",
   "metadata": {},
   "outputs": [],
   "source": []
  }
 ],
 "metadata": {
  "kernelspec": {
   "name": "python385jvsc74a57bd05bb12eb67624c75374b9114ba270fb8957bf9c1d51eb60215e8b605447caf146",
   "display_name": "Python 3.8.5 64-bit ('KPI': conda)"
  },
  "language_info": {
   "codemirror_mode": {
    "name": "ipython",
    "version": 3
   },
   "file_extension": ".py",
   "mimetype": "text/x-python",
   "name": "python",
   "nbconvert_exporter": "python",
   "pygments_lexer": "ipython3",
   "version": "3.8.5-final"
  }
 },
 "nbformat": 4,
 "nbformat_minor": 5
}