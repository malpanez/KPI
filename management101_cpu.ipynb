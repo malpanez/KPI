{
 "cells": [
  {
   "cell_type": "code",
   "execution_count": 3,
   "id": "grave-oxygen",
   "metadata": {},
   "outputs": [],
   "source": [
    "import pandas as pd\n",
    "import os"
   ]
  },
  {
   "cell_type": "code",
   "execution_count": 4,
   "id": "friendly-karen",
   "metadata": {},
   "outputs": [],
   "source": [
    "excel_book_1 = './May/cw/management101/cpu/mgt101_cpu.csv'\n",
    "excel_book_2 = './May/cw/management101/cpu/mgt102_cpu.csv'\n",
    "excel_book_3 = './May/cw/management101/cpu/mgt103_cpu.csv'\n",
    "excel_book_4 = './May/cw/management101/cpu/mgt104_cpu.csv'"
   ]
  },
  {
   "cell_type": "code",
   "execution_count": 5,
   "id": "beautiful-cowboy",
   "metadata": {
    "scrolled": true
   },
   "outputs": [],
   "source": [
    "df_1 = pd.read_csv(excel_book_1)\n",
    "df_2 = pd.read_csv(excel_book_2)\n",
    "df_3 = pd.read_csv(excel_book_3)\n",
    "df_4 = pd.read_csv(excel_book_4)\n",
    "final_dataframe = pd.concat([df_1, df_2, df_3, df_4], axis=1)"
   ]
  },
  {
   "cell_type": "code",
   "execution_count": 6,
   "id": "dress-overall",
   "metadata": {},
   "outputs": [],
   "source": [
    "final_dataframe.to_csv( \n",
    "    'management101_cpu.csv', index=False)"
   ]
  }
 ],
 "metadata": {
  "kernelspec": {
   "name": "python385jvsc74a57bd05bb12eb67624c75374b9114ba270fb8957bf9c1d51eb60215e8b605447caf146",
   "display_name": "Python 3.8.5 64-bit ('KPI': conda)"
  },
  "language_info": {
   "codemirror_mode": {
    "name": "ipython",
    "version": 3
   },
   "file_extension": ".py",
   "mimetype": "text/x-python",
   "name": "python",
   "nbconvert_exporter": "python",
   "pygments_lexer": "ipython3",
   "version": "3.8.5-final"
  }
 },
 "nbformat": 4,
 "nbformat_minor": 5
}